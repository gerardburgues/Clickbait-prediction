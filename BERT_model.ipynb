{
  "nbformat": 4,
  "nbformat_minor": 0,
  "metadata": {
    "colab": {
      "name": "BERT_model.ipynb",
      "provenance": [],
      "collapsed_sections": [],
      "authorship_tag": "ABX9TyNU+GLT+8Il6I3t4eYSh67W",
      "include_colab_link": true
    },
    "kernelspec": {
      "name": "python3",
      "display_name": "Python 3"
    },
    "language_info": {
      "name": "python"
    },
    "accelerator": "GPU"
  },
  "cells": [
    {
      "cell_type": "markdown",
      "metadata": {
        "id": "view-in-github",
        "colab_type": "text"
      },
      "source": [
        "<a href=\"https://colab.research.google.com/github/gerardburgues/Clickbait-prediction/blob/main/BERT_model.ipynb\" target=\"_parent\"><img src=\"https://colab.research.google.com/assets/colab-badge.svg\" alt=\"Open In Colab\"/></a>"
      ]
    },
    {
      "cell_type": "markdown",
      "source": [
        "# Clickbait detector\n"
      ],
      "metadata": {
        "id": "4j1QreT82RKj"
      }
    },
    {
      "cell_type": "markdown",
      "source": [
        "## Import Libraries\n"
      ],
      "metadata": {
        "id": "eJRuen8Y2hFE"
      }
    },
    {
      "cell_type": "code",
      "source": [
        "!pip install tensorflow_text"
      ],
      "metadata": {
        "colab": {
          "base_uri": "https://localhost:8080/"
        },
        "id": "2W3i0bmUoTPk",
        "outputId": "7bde2870-819f-49bd-d496-e504751af9de"
      },
      "execution_count": null,
      "outputs": [
        {
          "output_type": "stream",
          "name": "stdout",
          "text": [
            "Collecting tensorflow_text\n",
            "  Downloading tensorflow_text-2.8.1-cp37-cp37m-manylinux_2_12_x86_64.manylinux2010_x86_64.whl (4.9 MB)\n",
            "\u001b[K     |████████████████████████████████| 4.9 MB 5.3 MB/s \n",
            "\u001b[?25hRequirement already satisfied: tensorflow-hub>=0.8.0 in /usr/local/lib/python3.7/dist-packages (from tensorflow_text) (0.12.0)\n",
            "Requirement already satisfied: tensorflow<2.9,>=2.8.0 in /usr/local/lib/python3.7/dist-packages (from tensorflow_text) (2.8.0)\n",
            "Requirement already satisfied: protobuf>=3.9.2 in /usr/local/lib/python3.7/dist-packages (from tensorflow<2.9,>=2.8.0->tensorflow_text) (3.17.3)\n",
            "Requirement already satisfied: tensorboard<2.9,>=2.8 in /usr/local/lib/python3.7/dist-packages (from tensorflow<2.9,>=2.8.0->tensorflow_text) (2.8.0)\n",
            "Requirement already satisfied: opt-einsum>=2.3.2 in /usr/local/lib/python3.7/dist-packages (from tensorflow<2.9,>=2.8.0->tensorflow_text) (3.3.0)\n",
            "Requirement already satisfied: keras-preprocessing>=1.1.1 in /usr/local/lib/python3.7/dist-packages (from tensorflow<2.9,>=2.8.0->tensorflow_text) (1.1.2)\n",
            "Requirement already satisfied: six>=1.12.0 in /usr/local/lib/python3.7/dist-packages (from tensorflow<2.9,>=2.8.0->tensorflow_text) (1.15.0)\n",
            "Requirement already satisfied: keras<2.9,>=2.8.0rc0 in /usr/local/lib/python3.7/dist-packages (from tensorflow<2.9,>=2.8.0->tensorflow_text) (2.8.0)\n",
            "Requirement already satisfied: libclang>=9.0.1 in /usr/local/lib/python3.7/dist-packages (from tensorflow<2.9,>=2.8.0->tensorflow_text) (13.0.0)\n",
            "Requirement already satisfied: termcolor>=1.1.0 in /usr/local/lib/python3.7/dist-packages (from tensorflow<2.9,>=2.8.0->tensorflow_text) (1.1.0)\n",
            "Collecting tf-estimator-nightly==2.8.0.dev2021122109\n",
            "  Downloading tf_estimator_nightly-2.8.0.dev2021122109-py2.py3-none-any.whl (462 kB)\n",
            "\u001b[K     |████████████████████████████████| 462 kB 44.8 MB/s \n",
            "\u001b[?25hRequirement already satisfied: h5py>=2.9.0 in /usr/local/lib/python3.7/dist-packages (from tensorflow<2.9,>=2.8.0->tensorflow_text) (3.1.0)\n",
            "Requirement already satisfied: flatbuffers>=1.12 in /usr/local/lib/python3.7/dist-packages (from tensorflow<2.9,>=2.8.0->tensorflow_text) (2.0)\n",
            "Requirement already satisfied: astunparse>=1.6.0 in /usr/local/lib/python3.7/dist-packages (from tensorflow<2.9,>=2.8.0->tensorflow_text) (1.6.3)\n",
            "Requirement already satisfied: numpy>=1.20 in /usr/local/lib/python3.7/dist-packages (from tensorflow<2.9,>=2.8.0->tensorflow_text) (1.21.5)\n",
            "Requirement already satisfied: google-pasta>=0.1.1 in /usr/local/lib/python3.7/dist-packages (from tensorflow<2.9,>=2.8.0->tensorflow_text) (0.2.0)\n",
            "Requirement already satisfied: grpcio<2.0,>=1.24.3 in /usr/local/lib/python3.7/dist-packages (from tensorflow<2.9,>=2.8.0->tensorflow_text) (1.44.0)\n",
            "Requirement already satisfied: setuptools in /usr/local/lib/python3.7/dist-packages (from tensorflow<2.9,>=2.8.0->tensorflow_text) (57.4.0)\n",
            "Requirement already satisfied: tensorflow-io-gcs-filesystem>=0.23.1 in /usr/local/lib/python3.7/dist-packages (from tensorflow<2.9,>=2.8.0->tensorflow_text) (0.24.0)\n",
            "Requirement already satisfied: absl-py>=0.4.0 in /usr/local/lib/python3.7/dist-packages (from tensorflow<2.9,>=2.8.0->tensorflow_text) (1.0.0)\n",
            "Requirement already satisfied: typing-extensions>=3.6.6 in /usr/local/lib/python3.7/dist-packages (from tensorflow<2.9,>=2.8.0->tensorflow_text) (3.10.0.2)\n",
            "Requirement already satisfied: wrapt>=1.11.0 in /usr/local/lib/python3.7/dist-packages (from tensorflow<2.9,>=2.8.0->tensorflow_text) (1.14.0)\n",
            "Requirement already satisfied: gast>=0.2.1 in /usr/local/lib/python3.7/dist-packages (from tensorflow<2.9,>=2.8.0->tensorflow_text) (0.5.3)\n",
            "Requirement already satisfied: wheel<1.0,>=0.23.0 in /usr/local/lib/python3.7/dist-packages (from astunparse>=1.6.0->tensorflow<2.9,>=2.8.0->tensorflow_text) (0.37.1)\n",
            "Requirement already satisfied: cached-property in /usr/local/lib/python3.7/dist-packages (from h5py>=2.9.0->tensorflow<2.9,>=2.8.0->tensorflow_text) (1.5.2)\n",
            "Requirement already satisfied: requests<3,>=2.21.0 in /usr/local/lib/python3.7/dist-packages (from tensorboard<2.9,>=2.8->tensorflow<2.9,>=2.8.0->tensorflow_text) (2.23.0)\n",
            "Requirement already satisfied: werkzeug>=0.11.15 in /usr/local/lib/python3.7/dist-packages (from tensorboard<2.9,>=2.8->tensorflow<2.9,>=2.8.0->tensorflow_text) (1.0.1)\n",
            "Requirement already satisfied: tensorboard-data-server<0.7.0,>=0.6.0 in /usr/local/lib/python3.7/dist-packages (from tensorboard<2.9,>=2.8->tensorflow<2.9,>=2.8.0->tensorflow_text) (0.6.1)\n",
            "Requirement already satisfied: google-auth<3,>=1.6.3 in /usr/local/lib/python3.7/dist-packages (from tensorboard<2.9,>=2.8->tensorflow<2.9,>=2.8.0->tensorflow_text) (1.35.0)\n",
            "Requirement already satisfied: tensorboard-plugin-wit>=1.6.0 in /usr/local/lib/python3.7/dist-packages (from tensorboard<2.9,>=2.8->tensorflow<2.9,>=2.8.0->tensorflow_text) (1.8.1)\n",
            "Requirement already satisfied: google-auth-oauthlib<0.5,>=0.4.1 in /usr/local/lib/python3.7/dist-packages (from tensorboard<2.9,>=2.8->tensorflow<2.9,>=2.8.0->tensorflow_text) (0.4.6)\n",
            "Requirement already satisfied: markdown>=2.6.8 in /usr/local/lib/python3.7/dist-packages (from tensorboard<2.9,>=2.8->tensorflow<2.9,>=2.8.0->tensorflow_text) (3.3.6)\n",
            "Requirement already satisfied: cachetools<5.0,>=2.0.0 in /usr/local/lib/python3.7/dist-packages (from google-auth<3,>=1.6.3->tensorboard<2.9,>=2.8->tensorflow<2.9,>=2.8.0->tensorflow_text) (4.2.4)\n",
            "Requirement already satisfied: rsa<5,>=3.1.4 in /usr/local/lib/python3.7/dist-packages (from google-auth<3,>=1.6.3->tensorboard<2.9,>=2.8->tensorflow<2.9,>=2.8.0->tensorflow_text) (4.8)\n",
            "Requirement already satisfied: pyasn1-modules>=0.2.1 in /usr/local/lib/python3.7/dist-packages (from google-auth<3,>=1.6.3->tensorboard<2.9,>=2.8->tensorflow<2.9,>=2.8.0->tensorflow_text) (0.2.8)\n",
            "Requirement already satisfied: requests-oauthlib>=0.7.0 in /usr/local/lib/python3.7/dist-packages (from google-auth-oauthlib<0.5,>=0.4.1->tensorboard<2.9,>=2.8->tensorflow<2.9,>=2.8.0->tensorflow_text) (1.3.1)\n",
            "Requirement already satisfied: importlib-metadata>=4.4 in /usr/local/lib/python3.7/dist-packages (from markdown>=2.6.8->tensorboard<2.9,>=2.8->tensorflow<2.9,>=2.8.0->tensorflow_text) (4.11.3)\n",
            "Requirement already satisfied: zipp>=0.5 in /usr/local/lib/python3.7/dist-packages (from importlib-metadata>=4.4->markdown>=2.6.8->tensorboard<2.9,>=2.8->tensorflow<2.9,>=2.8.0->tensorflow_text) (3.7.0)\n",
            "Requirement already satisfied: pyasn1<0.5.0,>=0.4.6 in /usr/local/lib/python3.7/dist-packages (from pyasn1-modules>=0.2.1->google-auth<3,>=1.6.3->tensorboard<2.9,>=2.8->tensorflow<2.9,>=2.8.0->tensorflow_text) (0.4.8)\n",
            "Requirement already satisfied: certifi>=2017.4.17 in /usr/local/lib/python3.7/dist-packages (from requests<3,>=2.21.0->tensorboard<2.9,>=2.8->tensorflow<2.9,>=2.8.0->tensorflow_text) (2021.10.8)\n",
            "Requirement already satisfied: urllib3!=1.25.0,!=1.25.1,<1.26,>=1.21.1 in /usr/local/lib/python3.7/dist-packages (from requests<3,>=2.21.0->tensorboard<2.9,>=2.8->tensorflow<2.9,>=2.8.0->tensorflow_text) (1.24.3)\n",
            "Requirement already satisfied: idna<3,>=2.5 in /usr/local/lib/python3.7/dist-packages (from requests<3,>=2.21.0->tensorboard<2.9,>=2.8->tensorflow<2.9,>=2.8.0->tensorflow_text) (2.10)\n",
            "Requirement already satisfied: chardet<4,>=3.0.2 in /usr/local/lib/python3.7/dist-packages (from requests<3,>=2.21.0->tensorboard<2.9,>=2.8->tensorflow<2.9,>=2.8.0->tensorflow_text) (3.0.4)\n",
            "Requirement already satisfied: oauthlib>=3.0.0 in /usr/local/lib/python3.7/dist-packages (from requests-oauthlib>=0.7.0->google-auth-oauthlib<0.5,>=0.4.1->tensorboard<2.9,>=2.8->tensorflow<2.9,>=2.8.0->tensorflow_text) (3.2.0)\n",
            "Installing collected packages: tf-estimator-nightly, tensorflow-text\n",
            "Successfully installed tensorflow-text-2.8.1 tf-estimator-nightly-2.8.0.dev2021122109\n"
          ]
        }
      ]
    },
    {
      "cell_type": "code",
      "source": [
        "import nltk"
      ],
      "metadata": {
        "id": "BCN2eKyOofh4"
      },
      "execution_count": null,
      "outputs": []
    },
    {
      "cell_type": "code",
      "source": [
        "nltk.download('stopwords')\n",
        "nltk.download('punkt')\n",
        "nltk.download('wordnet')"
      ],
      "metadata": {
        "colab": {
          "base_uri": "https://localhost:8080/"
        },
        "id": "nJQC0WlTC6a6",
        "outputId": "7bb2e618-f55b-42e4-db45-492fbf52148e"
      },
      "execution_count": null,
      "outputs": [
        {
          "output_type": "stream",
          "name": "stdout",
          "text": [
            "[nltk_data] Downloading package stopwords to /root/nltk_data...\n",
            "[nltk_data]   Unzipping corpora/stopwords.zip.\n",
            "[nltk_data] Downloading package punkt to /root/nltk_data...\n",
            "[nltk_data]   Unzipping tokenizers/punkt.zip.\n",
            "[nltk_data] Downloading package wordnet to /root/nltk_data...\n",
            "[nltk_data]   Unzipping corpora/wordnet.zip.\n"
          ]
        },
        {
          "output_type": "execute_result",
          "data": {
            "text/plain": [
              "True"
            ]
          },
          "metadata": {},
          "execution_count": 3
        }
      ]
    },
    {
      "cell_type": "code",
      "source": [
        "import pandas as pd\n",
        "import numpy as np\n",
        "\n",
        "from imblearn.under_sampling import RandomUnderSampler\n",
        "\n",
        "from wordcloud import WordCloud, STOPWORDS, ImageColorGenerator\n",
        "import matplotlib.pyplot as plt\n",
        "\n",
        "import nltk\n",
        "from nltk.stem import WordNetLemmatizer \n",
        "from nltk.stem import PorterStemmer\n",
        "from nltk.tokenize import word_tokenize\n",
        "from nltk.corpus import stopwords\n",
        "\n",
        "import tensorflow as tf\n",
        "import tensorflow_hub as hub\n",
        "import tensorflow_text as text\n",
        "\n"
      ],
      "metadata": {
        "id": "ryncnwHL2qm0"
      },
      "execution_count": null,
      "outputs": []
    },
    {
      "cell_type": "markdown",
      "source": [
        "## Data Load\n"
      ],
      "metadata": {
        "id": "lLG5y71j2aLI"
      }
    },
    {
      "cell_type": "code",
      "source": [
        "df = pd.read_csv('webis_train.csv', sep=',', names=['PostMedia'\n",
        "                                                ,'postText'\n",
        "                                                ,'id'\n",
        "                                                ,'targetCaptions'\n",
        "                                                ,'targetParagraphs'\n",
        "                                                ,'targetTitle'\n",
        "                                                ,'postTimestamp'\n",
        "                                                ,'targetKeywords'\n",
        "                                                ,'targetDescription'\n",
        "                                                ,'truthJudgments'\n",
        "                                                ,'truthMean'\n",
        "                                                ,'truthClass'\n",
        "                                                ,'truthMedian'\n",
        "                                                ,'truthMode'])"
      ],
      "metadata": {
        "id": "0_M5ixqz2Ksu"
      },
      "execution_count": null,
      "outputs": []
    },
    {
      "cell_type": "code",
      "source": [
        "df.head()"
      ],
      "metadata": {
        "colab": {
          "base_uri": "https://localhost:8080/",
          "height": 530
        },
        "id": "ZNMIJC964oA5",
        "outputId": "b9f0145e-41d9-4303-cda0-a968778c43dd"
      },
      "execution_count": null,
      "outputs": [
        {
          "output_type": "execute_result",
          "data": {
            "text/plain": [
              "     PostMedia                                           postText  \\\n",
              "NaN  postMedia                                           postText   \n",
              "0.0         []  UK’s response to modern slavery leaving victim...   \n",
              "1.0         []                                       this is good   \n",
              "2.0         []  The \"forgotten\" Trump roast: Relive his brutal...   \n",
              "3.0         []               Meet the happiest #dog in the world!   \n",
              "\n",
              "                     id                                     targetCaptions  \\\n",
              "NaN                  id                                     targetCaptions   \n",
              "0.0  858462320779026432                         ['modern-slavery-rex.jpg']   \n",
              "1.0  858421020331560960  ['In this July 1, 2010 file photo, Dr. Charmai...   \n",
              "2.0  858368123753435136  [\"President Trump will not attend this year's ...   \n",
              "3.0  858323428260139008          ['Maru ', 'Maru', 'Maru', 'Maru', 'Maru']   \n",
              "\n",
              "                                      targetParagraphs  \\\n",
              "NaN                                   targetParagraphs   \n",
              "0.0  ['Thousands of modern slavery victims have\\xa0...   \n",
              "1.0  ['President Donald Trump has appointed the\\xa0...   \n",
              "2.0  ['When the\\xa0White House correspondents’ dinn...   \n",
              "3.0  ['Adorable is probably an understatement. This...   \n",
              "\n",
              "                                           targetTitle  \\\n",
              "NaN                                        targetTitle   \n",
              "0.0  ‘Inexcusable’ failures in UK’s response to mod...   \n",
              "1.0  Donald Trump Appoints Pro-Life Advocate as Ass...   \n",
              "2.0  The ‘forgotten’ Trump roast: Relive his brutal...   \n",
              "3.0  Meet The Happiest Dog In The World, Maru The H...   \n",
              "\n",
              "                      postTimestamp  \\\n",
              "NaN                   postTimestamp   \n",
              "0.0  Sat Apr 29 23:25:41 +0000 2017   \n",
              "1.0  Sat Apr 29 20:41:34 +0000 2017   \n",
              "2.0  Sat Apr 29 17:11:23 +0000 2017   \n",
              "3.0  Sat Apr 29 14:13:46 +0000 2017   \n",
              "\n",
              "                                        targetKeywords  \\\n",
              "NaN                                     targetKeywords   \n",
              "0.0  modern slavery, Department For Work And Pensio...   \n",
              "1.0  Americans United for Life, Dr. Charmaine Yoest...   \n",
              "2.0  trump whcd, whcd, white house correspondents d...   \n",
              "3.0      Maru, husky, dogs, pandas, furball, instagram   \n",
              "\n",
              "                                     targetDescription  \\\n",
              "NaN                                  targetDescription   \n",
              "0.0  “Inexcusable” failures in the UK’s system for ...   \n",
              "1.0  President Donald Trump has appointed pro-life ...   \n",
              "2.0  President Trump won't be at this year's White ...   \n",
              "3.0  The article is about Maru, a husky dog who has...   \n",
              "\n",
              "                                        truthJudgments            truthMean  \\\n",
              "NaN                                     truthJudgments            truthMean   \n",
              "0.0  [0.33333333330000003, 0.0, 0.33333333330000003...        0.13333333332   \n",
              "1.0                          [1.0, 1.0, 1.0, 1.0, 1.0]                  1.0   \n",
              "2.0  [0.33333333330000003, 1.0, 0.33333333330000003...  0.46666666663999995   \n",
              "3.0           [1.0, 0.6666666666000001, 1.0, 1.0, 1.0]   0.9333333333199999   \n",
              "\n",
              "       truthClass          truthMedian            truthMode  \n",
              "NaN    truthClass          truthMedian            truthMode  \n",
              "0.0  no-clickbait                  0.0                  0.0  \n",
              "1.0     clickbait                  1.0                  1.0  \n",
              "2.0  no-clickbait  0.33333333330000003  0.33333333330000003  \n",
              "3.0     clickbait                  1.0                  1.0  "
            ],
            "text/html": [
              "\n",
              "  <div id=\"df-58288109-bbd6-4e66-a757-bebcb87ebf43\">\n",
              "    <div class=\"colab-df-container\">\n",
              "      <div>\n",
              "<style scoped>\n",
              "    .dataframe tbody tr th:only-of-type {\n",
              "        vertical-align: middle;\n",
              "    }\n",
              "\n",
              "    .dataframe tbody tr th {\n",
              "        vertical-align: top;\n",
              "    }\n",
              "\n",
              "    .dataframe thead th {\n",
              "        text-align: right;\n",
              "    }\n",
              "</style>\n",
              "<table border=\"1\" class=\"dataframe\">\n",
              "  <thead>\n",
              "    <tr style=\"text-align: right;\">\n",
              "      <th></th>\n",
              "      <th>PostMedia</th>\n",
              "      <th>postText</th>\n",
              "      <th>id</th>\n",
              "      <th>targetCaptions</th>\n",
              "      <th>targetParagraphs</th>\n",
              "      <th>targetTitle</th>\n",
              "      <th>postTimestamp</th>\n",
              "      <th>targetKeywords</th>\n",
              "      <th>targetDescription</th>\n",
              "      <th>truthJudgments</th>\n",
              "      <th>truthMean</th>\n",
              "      <th>truthClass</th>\n",
              "      <th>truthMedian</th>\n",
              "      <th>truthMode</th>\n",
              "    </tr>\n",
              "  </thead>\n",
              "  <tbody>\n",
              "    <tr>\n",
              "      <th>NaN</th>\n",
              "      <td>postMedia</td>\n",
              "      <td>postText</td>\n",
              "      <td>id</td>\n",
              "      <td>targetCaptions</td>\n",
              "      <td>targetParagraphs</td>\n",
              "      <td>targetTitle</td>\n",
              "      <td>postTimestamp</td>\n",
              "      <td>targetKeywords</td>\n",
              "      <td>targetDescription</td>\n",
              "      <td>truthJudgments</td>\n",
              "      <td>truthMean</td>\n",
              "      <td>truthClass</td>\n",
              "      <td>truthMedian</td>\n",
              "      <td>truthMode</td>\n",
              "    </tr>\n",
              "    <tr>\n",
              "      <th>0.0</th>\n",
              "      <td>[]</td>\n",
              "      <td>UK’s response to modern slavery leaving victim...</td>\n",
              "      <td>858462320779026432</td>\n",
              "      <td>['modern-slavery-rex.jpg']</td>\n",
              "      <td>['Thousands of modern slavery victims have\\xa0...</td>\n",
              "      <td>‘Inexcusable’ failures in UK’s response to mod...</td>\n",
              "      <td>Sat Apr 29 23:25:41 +0000 2017</td>\n",
              "      <td>modern slavery, Department For Work And Pensio...</td>\n",
              "      <td>“Inexcusable” failures in the UK’s system for ...</td>\n",
              "      <td>[0.33333333330000003, 0.0, 0.33333333330000003...</td>\n",
              "      <td>0.13333333332</td>\n",
              "      <td>no-clickbait</td>\n",
              "      <td>0.0</td>\n",
              "      <td>0.0</td>\n",
              "    </tr>\n",
              "    <tr>\n",
              "      <th>1.0</th>\n",
              "      <td>[]</td>\n",
              "      <td>this is good</td>\n",
              "      <td>858421020331560960</td>\n",
              "      <td>['In this July 1, 2010 file photo, Dr. Charmai...</td>\n",
              "      <td>['President Donald Trump has appointed the\\xa0...</td>\n",
              "      <td>Donald Trump Appoints Pro-Life Advocate as Ass...</td>\n",
              "      <td>Sat Apr 29 20:41:34 +0000 2017</td>\n",
              "      <td>Americans United for Life, Dr. Charmaine Yoest...</td>\n",
              "      <td>President Donald Trump has appointed pro-life ...</td>\n",
              "      <td>[1.0, 1.0, 1.0, 1.0, 1.0]</td>\n",
              "      <td>1.0</td>\n",
              "      <td>clickbait</td>\n",
              "      <td>1.0</td>\n",
              "      <td>1.0</td>\n",
              "    </tr>\n",
              "    <tr>\n",
              "      <th>2.0</th>\n",
              "      <td>[]</td>\n",
              "      <td>The \"forgotten\" Trump roast: Relive his brutal...</td>\n",
              "      <td>858368123753435136</td>\n",
              "      <td>[\"President Trump will not attend this year's ...</td>\n",
              "      <td>['When the\\xa0White House correspondents’ dinn...</td>\n",
              "      <td>The ‘forgotten’ Trump roast: Relive his brutal...</td>\n",
              "      <td>Sat Apr 29 17:11:23 +0000 2017</td>\n",
              "      <td>trump whcd, whcd, white house correspondents d...</td>\n",
              "      <td>President Trump won't be at this year's White ...</td>\n",
              "      <td>[0.33333333330000003, 1.0, 0.33333333330000003...</td>\n",
              "      <td>0.46666666663999995</td>\n",
              "      <td>no-clickbait</td>\n",
              "      <td>0.33333333330000003</td>\n",
              "      <td>0.33333333330000003</td>\n",
              "    </tr>\n",
              "    <tr>\n",
              "      <th>3.0</th>\n",
              "      <td>[]</td>\n",
              "      <td>Meet the happiest #dog in the world!</td>\n",
              "      <td>858323428260139008</td>\n",
              "      <td>['Maru ', 'Maru', 'Maru', 'Maru', 'Maru']</td>\n",
              "      <td>['Adorable is probably an understatement. This...</td>\n",
              "      <td>Meet The Happiest Dog In The World, Maru The H...</td>\n",
              "      <td>Sat Apr 29 14:13:46 +0000 2017</td>\n",
              "      <td>Maru, husky, dogs, pandas, furball, instagram</td>\n",
              "      <td>The article is about Maru, a husky dog who has...</td>\n",
              "      <td>[1.0, 0.6666666666000001, 1.0, 1.0, 1.0]</td>\n",
              "      <td>0.9333333333199999</td>\n",
              "      <td>clickbait</td>\n",
              "      <td>1.0</td>\n",
              "      <td>1.0</td>\n",
              "    </tr>\n",
              "  </tbody>\n",
              "</table>\n",
              "</div>\n",
              "      <button class=\"colab-df-convert\" onclick=\"convertToInteractive('df-58288109-bbd6-4e66-a757-bebcb87ebf43')\"\n",
              "              title=\"Convert this dataframe to an interactive table.\"\n",
              "              style=\"display:none;\">\n",
              "        \n",
              "  <svg xmlns=\"http://www.w3.org/2000/svg\" height=\"24px\"viewBox=\"0 0 24 24\"\n",
              "       width=\"24px\">\n",
              "    <path d=\"M0 0h24v24H0V0z\" fill=\"none\"/>\n",
              "    <path d=\"M18.56 5.44l.94 2.06.94-2.06 2.06-.94-2.06-.94-.94-2.06-.94 2.06-2.06.94zm-11 1L8.5 8.5l.94-2.06 2.06-.94-2.06-.94L8.5 2.5l-.94 2.06-2.06.94zm10 10l.94 2.06.94-2.06 2.06-.94-2.06-.94-.94-2.06-.94 2.06-2.06.94z\"/><path d=\"M17.41 7.96l-1.37-1.37c-.4-.4-.92-.59-1.43-.59-.52 0-1.04.2-1.43.59L10.3 9.45l-7.72 7.72c-.78.78-.78 2.05 0 2.83L4 21.41c.39.39.9.59 1.41.59.51 0 1.02-.2 1.41-.59l7.78-7.78 2.81-2.81c.8-.78.8-2.07 0-2.86zM5.41 20L4 18.59l7.72-7.72 1.47 1.35L5.41 20z\"/>\n",
              "  </svg>\n",
              "      </button>\n",
              "      \n",
              "  <style>\n",
              "    .colab-df-container {\n",
              "      display:flex;\n",
              "      flex-wrap:wrap;\n",
              "      gap: 12px;\n",
              "    }\n",
              "\n",
              "    .colab-df-convert {\n",
              "      background-color: #E8F0FE;\n",
              "      border: none;\n",
              "      border-radius: 50%;\n",
              "      cursor: pointer;\n",
              "      display: none;\n",
              "      fill: #1967D2;\n",
              "      height: 32px;\n",
              "      padding: 0 0 0 0;\n",
              "      width: 32px;\n",
              "    }\n",
              "\n",
              "    .colab-df-convert:hover {\n",
              "      background-color: #E2EBFA;\n",
              "      box-shadow: 0px 1px 2px rgba(60, 64, 67, 0.3), 0px 1px 3px 1px rgba(60, 64, 67, 0.15);\n",
              "      fill: #174EA6;\n",
              "    }\n",
              "\n",
              "    [theme=dark] .colab-df-convert {\n",
              "      background-color: #3B4455;\n",
              "      fill: #D2E3FC;\n",
              "    }\n",
              "\n",
              "    [theme=dark] .colab-df-convert:hover {\n",
              "      background-color: #434B5C;\n",
              "      box-shadow: 0px 1px 3px 1px rgba(0, 0, 0, 0.15);\n",
              "      filter: drop-shadow(0px 1px 2px rgba(0, 0, 0, 0.3));\n",
              "      fill: #FFFFFF;\n",
              "    }\n",
              "  </style>\n",
              "\n",
              "      <script>\n",
              "        const buttonEl =\n",
              "          document.querySelector('#df-58288109-bbd6-4e66-a757-bebcb87ebf43 button.colab-df-convert');\n",
              "        buttonEl.style.display =\n",
              "          google.colab.kernel.accessAllowed ? 'block' : 'none';\n",
              "\n",
              "        async function convertToInteractive(key) {\n",
              "          const element = document.querySelector('#df-58288109-bbd6-4e66-a757-bebcb87ebf43');\n",
              "          const dataTable =\n",
              "            await google.colab.kernel.invokeFunction('convertToInteractive',\n",
              "                                                     [key], {});\n",
              "          if (!dataTable) return;\n",
              "\n",
              "          const docLinkHtml = 'Like what you see? Visit the ' +\n",
              "            '<a target=\"_blank\" href=https://colab.research.google.com/notebooks/data_table.ipynb>data table notebook</a>'\n",
              "            + ' to learn more about interactive tables.';\n",
              "          element.innerHTML = '';\n",
              "          dataTable['output_type'] = 'display_data';\n",
              "          await google.colab.output.renderOutput(dataTable, element);\n",
              "          const docLink = document.createElement('div');\n",
              "          docLink.innerHTML = docLinkHtml;\n",
              "          element.appendChild(docLink);\n",
              "        }\n",
              "      </script>\n",
              "    </div>\n",
              "  </div>\n",
              "  "
            ]
          },
          "metadata": {},
          "execution_count": 16
        }
      ]
    },
    {
      "cell_type": "code",
      "source": [
        "df = df.iloc[1:, [1,11]]\n",
        "df.head().reset_index(drop=True)"
      ],
      "metadata": {
        "colab": {
          "base_uri": "https://localhost:8080/",
          "height": 221
        },
        "id": "sRYJ5v-469fG",
        "outputId": "cd41a366-22d2-486c-8e20-397d97969307"
      },
      "execution_count": null,
      "outputs": [
        {
          "output_type": "execute_result",
          "data": {
            "text/plain": [
              "                                            postText    truthClass\n",
              "0  UK’s response to modern slavery leaving victim...  no-clickbait\n",
              "1                                       this is good     clickbait\n",
              "2  The \"forgotten\" Trump roast: Relive his brutal...  no-clickbait\n",
              "3               Meet the happiest #dog in the world!     clickbait\n",
              "4  Tokyo's subway is shut down amid fears over an...  no-clickbait"
            ],
            "text/html": [
              "\n",
              "  <div id=\"df-48afe530-f93b-40f0-96fb-2bff8cb4f7a2\">\n",
              "    <div class=\"colab-df-container\">\n",
              "      <div>\n",
              "<style scoped>\n",
              "    .dataframe tbody tr th:only-of-type {\n",
              "        vertical-align: middle;\n",
              "    }\n",
              "\n",
              "    .dataframe tbody tr th {\n",
              "        vertical-align: top;\n",
              "    }\n",
              "\n",
              "    .dataframe thead th {\n",
              "        text-align: right;\n",
              "    }\n",
              "</style>\n",
              "<table border=\"1\" class=\"dataframe\">\n",
              "  <thead>\n",
              "    <tr style=\"text-align: right;\">\n",
              "      <th></th>\n",
              "      <th>postText</th>\n",
              "      <th>truthClass</th>\n",
              "    </tr>\n",
              "  </thead>\n",
              "  <tbody>\n",
              "    <tr>\n",
              "      <th>0</th>\n",
              "      <td>UK’s response to modern slavery leaving victim...</td>\n",
              "      <td>no-clickbait</td>\n",
              "    </tr>\n",
              "    <tr>\n",
              "      <th>1</th>\n",
              "      <td>this is good</td>\n",
              "      <td>clickbait</td>\n",
              "    </tr>\n",
              "    <tr>\n",
              "      <th>2</th>\n",
              "      <td>The \"forgotten\" Trump roast: Relive his brutal...</td>\n",
              "      <td>no-clickbait</td>\n",
              "    </tr>\n",
              "    <tr>\n",
              "      <th>3</th>\n",
              "      <td>Meet the happiest #dog in the world!</td>\n",
              "      <td>clickbait</td>\n",
              "    </tr>\n",
              "    <tr>\n",
              "      <th>4</th>\n",
              "      <td>Tokyo's subway is shut down amid fears over an...</td>\n",
              "      <td>no-clickbait</td>\n",
              "    </tr>\n",
              "  </tbody>\n",
              "</table>\n",
              "</div>\n",
              "      <button class=\"colab-df-convert\" onclick=\"convertToInteractive('df-48afe530-f93b-40f0-96fb-2bff8cb4f7a2')\"\n",
              "              title=\"Convert this dataframe to an interactive table.\"\n",
              "              style=\"display:none;\">\n",
              "        \n",
              "  <svg xmlns=\"http://www.w3.org/2000/svg\" height=\"24px\"viewBox=\"0 0 24 24\"\n",
              "       width=\"24px\">\n",
              "    <path d=\"M0 0h24v24H0V0z\" fill=\"none\"/>\n",
              "    <path d=\"M18.56 5.44l.94 2.06.94-2.06 2.06-.94-2.06-.94-.94-2.06-.94 2.06-2.06.94zm-11 1L8.5 8.5l.94-2.06 2.06-.94-2.06-.94L8.5 2.5l-.94 2.06-2.06.94zm10 10l.94 2.06.94-2.06 2.06-.94-2.06-.94-.94-2.06-.94 2.06-2.06.94z\"/><path d=\"M17.41 7.96l-1.37-1.37c-.4-.4-.92-.59-1.43-.59-.52 0-1.04.2-1.43.59L10.3 9.45l-7.72 7.72c-.78.78-.78 2.05 0 2.83L4 21.41c.39.39.9.59 1.41.59.51 0 1.02-.2 1.41-.59l7.78-7.78 2.81-2.81c.8-.78.8-2.07 0-2.86zM5.41 20L4 18.59l7.72-7.72 1.47 1.35L5.41 20z\"/>\n",
              "  </svg>\n",
              "      </button>\n",
              "      \n",
              "  <style>\n",
              "    .colab-df-container {\n",
              "      display:flex;\n",
              "      flex-wrap:wrap;\n",
              "      gap: 12px;\n",
              "    }\n",
              "\n",
              "    .colab-df-convert {\n",
              "      background-color: #E8F0FE;\n",
              "      border: none;\n",
              "      border-radius: 50%;\n",
              "      cursor: pointer;\n",
              "      display: none;\n",
              "      fill: #1967D2;\n",
              "      height: 32px;\n",
              "      padding: 0 0 0 0;\n",
              "      width: 32px;\n",
              "    }\n",
              "\n",
              "    .colab-df-convert:hover {\n",
              "      background-color: #E2EBFA;\n",
              "      box-shadow: 0px 1px 2px rgba(60, 64, 67, 0.3), 0px 1px 3px 1px rgba(60, 64, 67, 0.15);\n",
              "      fill: #174EA6;\n",
              "    }\n",
              "\n",
              "    [theme=dark] .colab-df-convert {\n",
              "      background-color: #3B4455;\n",
              "      fill: #D2E3FC;\n",
              "    }\n",
              "\n",
              "    [theme=dark] .colab-df-convert:hover {\n",
              "      background-color: #434B5C;\n",
              "      box-shadow: 0px 1px 3px 1px rgba(0, 0, 0, 0.15);\n",
              "      filter: drop-shadow(0px 1px 2px rgba(0, 0, 0, 0.3));\n",
              "      fill: #FFFFFF;\n",
              "    }\n",
              "  </style>\n",
              "\n",
              "      <script>\n",
              "        const buttonEl =\n",
              "          document.querySelector('#df-48afe530-f93b-40f0-96fb-2bff8cb4f7a2 button.colab-df-convert');\n",
              "        buttonEl.style.display =\n",
              "          google.colab.kernel.accessAllowed ? 'block' : 'none';\n",
              "\n",
              "        async function convertToInteractive(key) {\n",
              "          const element = document.querySelector('#df-48afe530-f93b-40f0-96fb-2bff8cb4f7a2');\n",
              "          const dataTable =\n",
              "            await google.colab.kernel.invokeFunction('convertToInteractive',\n",
              "                                                     [key], {});\n",
              "          if (!dataTable) return;\n",
              "\n",
              "          const docLinkHtml = 'Like what you see? Visit the ' +\n",
              "            '<a target=\"_blank\" href=https://colab.research.google.com/notebooks/data_table.ipynb>data table notebook</a>'\n",
              "            + ' to learn more about interactive tables.';\n",
              "          element.innerHTML = '';\n",
              "          dataTable['output_type'] = 'display_data';\n",
              "          await google.colab.output.renderOutput(dataTable, element);\n",
              "          const docLink = document.createElement('div');\n",
              "          docLink.innerHTML = docLinkHtml;\n",
              "          element.appendChild(docLink);\n",
              "        }\n",
              "      </script>\n",
              "    </div>\n",
              "  </div>\n",
              "  "
            ]
          },
          "metadata": {},
          "execution_count": 17
        }
      ]
    },
    {
      "cell_type": "code",
      "source": [
        ""
      ],
      "metadata": {
        "id": "qSuZI_3-7imr"
      },
      "execution_count": null,
      "outputs": []
    },
    {
      "cell_type": "code",
      "source": [
        "#When truthClass is clickbait then 1  \n",
        "df.loc[df['truthClass'] == 'clickbait', 'TC'] = 1\n",
        "#When truthClass is clickbait then 1  \n",
        "df.loc[df['truthClass'] != 'clickbait', 'TC'] = 0\n",
        "df = df.drop(['truthClass'], axis=1)"
      ],
      "metadata": {
        "id": "yNZ6yqYX8HnZ"
      },
      "execution_count": null,
      "outputs": []
    },
    {
      "cell_type": "code",
      "source": [
        "df.head()"
      ],
      "metadata": {
        "colab": {
          "base_uri": "https://localhost:8080/",
          "height": 221
        },
        "id": "JjOWBDEk8wpL",
        "outputId": "86fa61dd-bea7-424f-ef85-4f4c9ace3833"
      },
      "execution_count": null,
      "outputs": [
        {
          "output_type": "execute_result",
          "data": {
            "text/plain": [
              "                                              postText   TC\n",
              "0.0  UK’s response to modern slavery leaving victim...  0.0\n",
              "1.0                                       this is good  1.0\n",
              "2.0  The \"forgotten\" Trump roast: Relive his brutal...  0.0\n",
              "3.0               Meet the happiest #dog in the world!  1.0\n",
              "4.0  Tokyo's subway is shut down amid fears over an...  0.0"
            ],
            "text/html": [
              "\n",
              "  <div id=\"df-d986b483-afd0-4aed-9521-277b93262983\">\n",
              "    <div class=\"colab-df-container\">\n",
              "      <div>\n",
              "<style scoped>\n",
              "    .dataframe tbody tr th:only-of-type {\n",
              "        vertical-align: middle;\n",
              "    }\n",
              "\n",
              "    .dataframe tbody tr th {\n",
              "        vertical-align: top;\n",
              "    }\n",
              "\n",
              "    .dataframe thead th {\n",
              "        text-align: right;\n",
              "    }\n",
              "</style>\n",
              "<table border=\"1\" class=\"dataframe\">\n",
              "  <thead>\n",
              "    <tr style=\"text-align: right;\">\n",
              "      <th></th>\n",
              "      <th>postText</th>\n",
              "      <th>TC</th>\n",
              "    </tr>\n",
              "  </thead>\n",
              "  <tbody>\n",
              "    <tr>\n",
              "      <th>0.0</th>\n",
              "      <td>UK’s response to modern slavery leaving victim...</td>\n",
              "      <td>0.0</td>\n",
              "    </tr>\n",
              "    <tr>\n",
              "      <th>1.0</th>\n",
              "      <td>this is good</td>\n",
              "      <td>1.0</td>\n",
              "    </tr>\n",
              "    <tr>\n",
              "      <th>2.0</th>\n",
              "      <td>The \"forgotten\" Trump roast: Relive his brutal...</td>\n",
              "      <td>0.0</td>\n",
              "    </tr>\n",
              "    <tr>\n",
              "      <th>3.0</th>\n",
              "      <td>Meet the happiest #dog in the world!</td>\n",
              "      <td>1.0</td>\n",
              "    </tr>\n",
              "    <tr>\n",
              "      <th>4.0</th>\n",
              "      <td>Tokyo's subway is shut down amid fears over an...</td>\n",
              "      <td>0.0</td>\n",
              "    </tr>\n",
              "  </tbody>\n",
              "</table>\n",
              "</div>\n",
              "      <button class=\"colab-df-convert\" onclick=\"convertToInteractive('df-d986b483-afd0-4aed-9521-277b93262983')\"\n",
              "              title=\"Convert this dataframe to an interactive table.\"\n",
              "              style=\"display:none;\">\n",
              "        \n",
              "  <svg xmlns=\"http://www.w3.org/2000/svg\" height=\"24px\"viewBox=\"0 0 24 24\"\n",
              "       width=\"24px\">\n",
              "    <path d=\"M0 0h24v24H0V0z\" fill=\"none\"/>\n",
              "    <path d=\"M18.56 5.44l.94 2.06.94-2.06 2.06-.94-2.06-.94-.94-2.06-.94 2.06-2.06.94zm-11 1L8.5 8.5l.94-2.06 2.06-.94-2.06-.94L8.5 2.5l-.94 2.06-2.06.94zm10 10l.94 2.06.94-2.06 2.06-.94-2.06-.94-.94-2.06-.94 2.06-2.06.94z\"/><path d=\"M17.41 7.96l-1.37-1.37c-.4-.4-.92-.59-1.43-.59-.52 0-1.04.2-1.43.59L10.3 9.45l-7.72 7.72c-.78.78-.78 2.05 0 2.83L4 21.41c.39.39.9.59 1.41.59.51 0 1.02-.2 1.41-.59l7.78-7.78 2.81-2.81c.8-.78.8-2.07 0-2.86zM5.41 20L4 18.59l7.72-7.72 1.47 1.35L5.41 20z\"/>\n",
              "  </svg>\n",
              "      </button>\n",
              "      \n",
              "  <style>\n",
              "    .colab-df-container {\n",
              "      display:flex;\n",
              "      flex-wrap:wrap;\n",
              "      gap: 12px;\n",
              "    }\n",
              "\n",
              "    .colab-df-convert {\n",
              "      background-color: #E8F0FE;\n",
              "      border: none;\n",
              "      border-radius: 50%;\n",
              "      cursor: pointer;\n",
              "      display: none;\n",
              "      fill: #1967D2;\n",
              "      height: 32px;\n",
              "      padding: 0 0 0 0;\n",
              "      width: 32px;\n",
              "    }\n",
              "\n",
              "    .colab-df-convert:hover {\n",
              "      background-color: #E2EBFA;\n",
              "      box-shadow: 0px 1px 2px rgba(60, 64, 67, 0.3), 0px 1px 3px 1px rgba(60, 64, 67, 0.15);\n",
              "      fill: #174EA6;\n",
              "    }\n",
              "\n",
              "    [theme=dark] .colab-df-convert {\n",
              "      background-color: #3B4455;\n",
              "      fill: #D2E3FC;\n",
              "    }\n",
              "\n",
              "    [theme=dark] .colab-df-convert:hover {\n",
              "      background-color: #434B5C;\n",
              "      box-shadow: 0px 1px 3px 1px rgba(0, 0, 0, 0.15);\n",
              "      filter: drop-shadow(0px 1px 2px rgba(0, 0, 0, 0.3));\n",
              "      fill: #FFFFFF;\n",
              "    }\n",
              "  </style>\n",
              "\n",
              "      <script>\n",
              "        const buttonEl =\n",
              "          document.querySelector('#df-d986b483-afd0-4aed-9521-277b93262983 button.colab-df-convert');\n",
              "        buttonEl.style.display =\n",
              "          google.colab.kernel.accessAllowed ? 'block' : 'none';\n",
              "\n",
              "        async function convertToInteractive(key) {\n",
              "          const element = document.querySelector('#df-d986b483-afd0-4aed-9521-277b93262983');\n",
              "          const dataTable =\n",
              "            await google.colab.kernel.invokeFunction('convertToInteractive',\n",
              "                                                     [key], {});\n",
              "          if (!dataTable) return;\n",
              "\n",
              "          const docLinkHtml = 'Like what you see? Visit the ' +\n",
              "            '<a target=\"_blank\" href=https://colab.research.google.com/notebooks/data_table.ipynb>data table notebook</a>'\n",
              "            + ' to learn more about interactive tables.';\n",
              "          element.innerHTML = '';\n",
              "          dataTable['output_type'] = 'display_data';\n",
              "          await google.colab.output.renderOutput(dataTable, element);\n",
              "          const docLink = document.createElement('div');\n",
              "          docLink.innerHTML = docLinkHtml;\n",
              "          element.appendChild(docLink);\n",
              "        }\n",
              "      </script>\n",
              "    </div>\n",
              "  </div>\n",
              "  "
            ]
          },
          "metadata": {},
          "execution_count": 19
        }
      ]
    },
    {
      "cell_type": "markdown",
      "source": [
        "Now that I have cleaned and selected which columns we are interested in the dataset I'll proceed to analyse the data to complete the final goal. \n",
        "I've already decoded the truthclass (string) into a 1/0 parameter. "
      ],
      "metadata": {
        "id": "UOMWj_OX-wG0"
      }
    },
    {
      "cell_type": "markdown",
      "source": [
        "First we are interested in the following parameter:\n",
        "\n",
        "**TRUTHCLASS**\n",
        "\n",
        "Is the dataset even? --> \n",
        "Do we have the same quantity of data for each type of TC?\n",
        "\n",
        "\n",
        "\n"
      ],
      "metadata": {
        "id": "R07ByJt3_anh"
      }
    },
    {
      "cell_type": "code",
      "source": [
        "print('making sure we have two unique TC ' , df['TC'].nunique())\n",
        "print('Showing occurances for TC = 0 and TC = 1')\n",
        "df['TC'].value_counts()\n",
        "df['TC'].value_counts().plot.bar()"
      ],
      "metadata": {
        "colab": {
          "base_uri": "https://localhost:8080/",
          "height": 341
        },
        "id": "vtlXfQmd_PWG",
        "outputId": "079e226f-50e9-4a05-80f5-3f90f23c171d"
      },
      "execution_count": null,
      "outputs": [
        {
          "output_type": "stream",
          "name": "stdout",
          "text": [
            "making sure we have two unique TC  2\n",
            "Showing occurances for TC = 0 and TC = 1\n"
          ]
        },
        {
          "output_type": "execute_result",
          "data": {
            "text/plain": [
              "<matplotlib.axes._subplots.AxesSubplot at 0x7f02dbeeb250>"
            ]
          },
          "metadata": {},
          "execution_count": 20
        },
        {
          "output_type": "display_data",
          "data": {
            "text/plain": [
              "<Figure size 432x288 with 1 Axes>"
            ],
            "image/png": "[encoded data removed]"
          },
          "metadata": {
            "needs_background": "light"
          }
        }
      ]
    },
    {
      "cell_type": "markdown",
      "source": [
        "As we can see we do not have a balanced data.\n",
        "To treat this problem I'll use a resampling technique (Undersampling).\n",
        "\n",
        "As I'll be using BERT I think that I\n",
        "'ll still have enough data to play with. In case my final result is not the expected one, I'll find a better aproach. \n",
        "\n",
        "Before applying the undersampling it is better to remove all those rows that have null values. \n",
        "They don't bring any information. \n"
      ],
      "metadata": {
        "id": "xqnF7QsOA1go"
      }
    },
    {
      "cell_type": "code",
      "source": [
        "#Before balancing the data we remove any row that doesn't provide data\n",
        "null_columns=df.columns[df.isnull().any()]\n",
        "df[null_columns].isnull().sum()"
      ],
      "metadata": {
        "colab": {
          "base_uri": "https://localhost:8080/"
        },
        "id": "r4lAtnLoGW37",
        "outputId": "6dad7b09-d595-4c3c-a023-5230d97ad7ef"
      },
      "execution_count": null,
      "outputs": [
        {
          "output_type": "execute_result",
          "data": {
            "text/plain": [
              "postText    54\n",
              "dtype: int64"
            ]
          },
          "metadata": {},
          "execution_count": 21
        }
      ]
    },
    {
      "cell_type": "code",
      "source": [
        "#Remove row if there is null value\n",
        "df = df.dropna()"
      ],
      "metadata": {
        "id": "FzqHAsY5GocO"
      },
      "execution_count": null,
      "outputs": []
    },
    {
      "cell_type": "code",
      "source": [
        "df.isna()"
      ],
      "metadata": {
        "colab": {
          "base_uri": "https://localhost:8080/",
          "height": 433
        },
        "id": "4gHDKn4eKAks",
        "outputId": "09d36590-dd4d-49c3-ca82-9e42b990a024"
      },
      "execution_count": null,
      "outputs": [
        {
          "output_type": "execute_result",
          "data": {
            "text/plain": [
              "         postText     TC\n",
              "0.0         False  False\n",
              "1.0         False  False\n",
              "2.0         False  False\n",
              "3.0         False  False\n",
              "4.0         False  False\n",
              "...           ...    ...\n",
              "19533.0     False  False\n",
              "19534.0     False  False\n",
              "19535.0     False  False\n",
              "19536.0     False  False\n",
              "19537.0     False  False\n",
              "\n",
              "[19484 rows x 2 columns]"
            ],
            "text/html": [
              "\n",
              "  <div id=\"df-82d66757-771c-4db1-9ae7-f0977745202e\">\n",
              "    <div class=\"colab-df-container\">\n",
              "      <div>\n",
              "<style scoped>\n",
              "    .dataframe tbody tr th:only-of-type {\n",
              "        vertical-align: middle;\n",
              "    }\n",
              "\n",
              "    .dataframe tbody tr th {\n",
              "        vertical-align: top;\n",
              "    }\n",
              "\n",
              "    .dataframe thead th {\n",
              "        text-align: right;\n",
              "    }\n",
              "</style>\n",
              "<table border=\"1\" class=\"dataframe\">\n",
              "  <thead>\n",
              "    <tr style=\"text-align: right;\">\n",
              "      <th></th>\n",
              "      <th>postText</th>\n",
              "      <th>TC</th>\n",
              "    </tr>\n",
              "  </thead>\n",
              "  <tbody>\n",
              "    <tr>\n",
              "      <th>0.0</th>\n",
              "      <td>False</td>\n",
              "      <td>False</td>\n",
              "    </tr>\n",
              "    <tr>\n",
              "      <th>1.0</th>\n",
              "      <td>False</td>\n",
              "      <td>False</td>\n",
              "    </tr>\n",
              "    <tr>\n",
              "      <th>2.0</th>\n",
              "      <td>False</td>\n",
              "      <td>False</td>\n",
              "    </tr>\n",
              "    <tr>\n",
              "      <th>3.0</th>\n",
              "      <td>False</td>\n",
              "      <td>False</td>\n",
              "    </tr>\n",
              "    <tr>\n",
              "      <th>4.0</th>\n",
              "      <td>False</td>\n",
              "      <td>False</td>\n",
              "    </tr>\n",
              "    <tr>\n",
              "      <th>...</th>\n",
              "      <td>...</td>\n",
              "      <td>...</td>\n",
              "    </tr>\n",
              "    <tr>\n",
              "      <th>19533.0</th>\n",
              "      <td>False</td>\n",
              "      <td>False</td>\n",
              "    </tr>\n",
              "    <tr>\n",
              "      <th>19534.0</th>\n",
              "      <td>False</td>\n",
              "      <td>False</td>\n",
              "    </tr>\n",
              "    <tr>\n",
              "      <th>19535.0</th>\n",
              "      <td>False</td>\n",
              "      <td>False</td>\n",
              "    </tr>\n",
              "    <tr>\n",
              "      <th>19536.0</th>\n",
              "      <td>False</td>\n",
              "      <td>False</td>\n",
              "    </tr>\n",
              "    <tr>\n",
              "      <th>19537.0</th>\n",
              "      <td>False</td>\n",
              "      <td>False</td>\n",
              "    </tr>\n",
              "  </tbody>\n",
              "</table>\n",
              "<p>19484 rows × 2 columns</p>\n",
              "</div>\n",
              "      <button class=\"colab-df-convert\" onclick=\"convertToInteractive('df-82d66757-771c-4db1-9ae7-f0977745202e')\"\n",
              "              title=\"Convert this dataframe to an interactive table.\"\n",
              "              style=\"display:none;\">\n",
              "        \n",
              "  <svg xmlns=\"http://www.w3.org/2000/svg\" height=\"24px\"viewBox=\"0 0 24 24\"\n",
              "       width=\"24px\">\n",
              "    <path d=\"M0 0h24v24H0V0z\" fill=\"none\"/>\n",
              "    <path d=\"M18.56 5.44l.94 2.06.94-2.06 2.06-.94-2.06-.94-.94-2.06-.94 2.06-2.06.94zm-11 1L8.5 8.5l.94-2.06 2.06-.94-2.06-.94L8.5 2.5l-.94 2.06-2.06.94zm10 10l.94 2.06.94-2.06 2.06-.94-2.06-.94-.94-2.06-.94 2.06-2.06.94z\"/><path d=\"M17.41 7.96l-1.37-1.37c-.4-.4-.92-.59-1.43-.59-.52 0-1.04.2-1.43.59L10.3 9.45l-7.72 7.72c-.78.78-.78 2.05 0 2.83L4 21.41c.39.39.9.59 1.41.59.51 0 1.02-.2 1.41-.59l7.78-7.78 2.81-2.81c.8-.78.8-2.07 0-2.86zM5.41 20L4 18.59l7.72-7.72 1.47 1.35L5.41 20z\"/>\n",
              "  </svg>\n",
              "      </button>\n",
              "      \n",
              "  <style>\n",
              "    .colab-df-container {\n",
              "      display:flex;\n",
              "      flex-wrap:wrap;\n",
              "      gap: 12px;\n",
              "    }\n",
              "\n",
              "    .colab-df-convert {\n",
              "      background-color: #E8F0FE;\n",
              "      border: none;\n",
              "      border-radius: 50%;\n",
              "      cursor: pointer;\n",
              "      display: none;\n",
              "      fill: #1967D2;\n",
              "      height: 32px;\n",
              "      padding: 0 0 0 0;\n",
              "      width: 32px;\n",
              "    }\n",
              "\n",
              "    .colab-df-convert:hover {\n",
              "      background-color: #E2EBFA;\n",
              "      box-shadow: 0px 1px 2px rgba(60, 64, 67, 0.3), 0px 1px 3px 1px rgba(60, 64, 67, 0.15);\n",
              "      fill: #174EA6;\n",
              "    }\n",
              "\n",
              "    [theme=dark] .colab-df-convert {\n",
              "      background-color: #3B4455;\n",
              "      fill: #D2E3FC;\n",
              "    }\n",
              "\n",
              "    [theme=dark] .colab-df-convert:hover {\n",
              "      background-color: #434B5C;\n",
              "      box-shadow: 0px 1px 3px 1px rgba(0, 0, 0, 0.15);\n",
              "      filter: drop-shadow(0px 1px 2px rgba(0, 0, 0, 0.3));\n",
              "      fill: #FFFFFF;\n",
              "    }\n",
              "  </style>\n",
              "\n",
              "      <script>\n",
              "        const buttonEl =\n",
              "          document.querySelector('#df-82d66757-771c-4db1-9ae7-f0977745202e button.colab-df-convert');\n",
              "        buttonEl.style.display =\n",
              "          google.colab.kernel.accessAllowed ? 'block' : 'none';\n",
              "\n",
              "        async function convertToInteractive(key) {\n",
              "          const element = document.querySelector('#df-82d66757-771c-4db1-9ae7-f0977745202e');\n",
              "          const dataTable =\n",
              "            await google.colab.kernel.invokeFunction('convertToInteractive',\n",
              "                                                     [key], {});\n",
              "          if (!dataTable) return;\n",
              "\n",
              "          const docLinkHtml = 'Like what you see? Visit the ' +\n",
              "            '<a target=\"_blank\" href=https://colab.research.google.com/notebooks/data_table.ipynb>data table notebook</a>'\n",
              "            + ' to learn more about interactive tables.';\n",
              "          element.innerHTML = '';\n",
              "          dataTable['output_type'] = 'display_data';\n",
              "          await google.colab.output.renderOutput(dataTable, element);\n",
              "          const docLink = document.createElement('div');\n",
              "          docLink.innerHTML = docLinkHtml;\n",
              "          element.appendChild(docLink);\n",
              "        }\n",
              "      </script>\n",
              "    </div>\n",
              "  </div>\n",
              "  "
            ]
          },
          "metadata": {},
          "execution_count": 23
        }
      ]
    },
    {
      "cell_type": "code",
      "source": [
        "class_count_0, class_count_1 = df['TC'].value_counts()\n",
        "\n",
        "class_0 = df[df['TC'] == 0]\n",
        "class_1 = df[df['TC'] == 1]\n",
        "print('class 0' , class_0.shape)\n",
        "print('class 1' , class_1.shape)\n",
        "\n",
        "class_0_under = class_0.sample(class_count_1)\n",
        "\n",
        "df_under = pd.concat([class_0_under, class_1], axis=0)\n",
        "\n",
        "print(\"total class of 1 and0:\",df_under['TC'].value_counts())# plot the count after under-sampeling\n",
        "df_under['TC'].value_counts().plot(kind='bar', title='count (target)')"
      ],
      "metadata": {
        "colab": {
          "base_uri": "https://localhost:8080/",
          "height": 406
        },
        "id": "803EngSUByEo",
        "outputId": "b1e3739e-a744-4fe4-e71f-c04d2fb1b1eb"
      },
      "execution_count": null,
      "outputs": [
        {
          "output_type": "stream",
          "name": "stdout",
          "text": [
            "class 0 (14768, 2)\n",
            "class 1 (4716, 2)\n",
            "total class of 1 and0: 0.0    4716\n",
            "1.0    4716\n",
            "Name: TC, dtype: int64\n"
          ]
        },
        {
          "output_type": "execute_result",
          "data": {
            "text/plain": [
              "<matplotlib.axes._subplots.AxesSubplot at 0x7f02dbe30d90>"
            ]
          },
          "metadata": {},
          "execution_count": 24
        },
        {
          "output_type": "display_data",
          "data": {
            "text/plain": [
              "<Figure size 432x288 with 1 Axes>"
            ],
            "image/png": "[encoded data removed]"
          },
          "metadata": {
            "needs_background": "light"
          }
        }
      ]
    },
    {
      "cell_type": "code",
      "source": [
        "df_under.head()\n",
        "cloudData = df_under.copy()"
      ],
      "metadata": {
        "id": "6BiWU_X_FQQ5"
      },
      "execution_count": null,
      "outputs": []
    },
    {
      "cell_type": "code",
      "source": [
        "print(cloudData)"
      ],
      "metadata": {
        "colab": {
          "base_uri": "https://localhost:8080/"
        },
        "id": "uZoe-xORWERL",
        "outputId": "2a2ba5af-9a8f-446f-ae63-5e79d987fd0f"
      },
      "execution_count": null,
      "outputs": [
        {
          "output_type": "stream",
          "name": "stdout",
          "text": [
            "                                                  postText   TC\n",
            "2242.0                Islamophobia is on the rise in China  0.0\n",
            "9062.0   How a president can use orders and memos, and ...  0.0\n",
            "6976.0   A man holding a #machete was shot and injured ...  0.0\n",
            "8592.0   Vince Carter ejected for throwing elbow at Dev...  0.0\n",
            "15144.0  50 Cent mercilessly trolls Soulja Boy after al...  0.0\n",
            "...                                                    ...  ...\n",
            "19518.0  CenturyLinkVoice: New product launch: Testing ...  1.0\n",
            "19526.0                        We'll always have Newsweek.  1.0\n",
            "19529.0  18 uplifting documentaries guaranteed to put a...  1.0\n",
            "19532.0  12 things you realize at the end of a relation...  1.0\n",
            "19534.0                                     😱😱😱😱😱😱😱😱😱😱😱😱😱😱  1.0\n",
            "\n",
            "[9432 rows x 2 columns]\n"
          ]
        }
      ]
    },
    {
      "cell_type": "markdown",
      "source": [
        "As you can see in the following cell we do not have any null value \n",
        "\n"
      ],
      "metadata": {
        "id": "gaj6q2LYFyCC"
      }
    },
    {
      "cell_type": "code",
      "source": [
        "null_columns=df_under.columns[df_under.isnull().any()]\n",
        "df_under[null_columns].isnull().sum()\n"
      ],
      "metadata": {
        "colab": {
          "base_uri": "https://localhost:8080/"
        },
        "id": "32CktJOUFpzq",
        "outputId": "12500734-080b-4eae-e6ab-a9b98973c867"
      },
      "execution_count": null,
      "outputs": [
        {
          "output_type": "execute_result",
          "data": {
            "text/plain": [
              "Series([], dtype: float64)"
            ]
          },
          "metadata": {},
          "execution_count": 27
        }
      ]
    },
    {
      "cell_type": "code",
      "source": [
        ""
      ],
      "metadata": {
        "id": "lLAxWM01Vo5V"
      },
      "execution_count": null,
      "outputs": []
    },
    {
      "cell_type": "markdown",
      "source": [
        "Now we know we don't have any row with null values I can start the preprocessing part:\n",
        "\n",
        "- Remove stopwords\n",
        "- Lower case words\n",
        "- Removing punctuation"
      ],
      "metadata": {
        "id": "FGifArlE-yET"
      }
    },
    {
      "cell_type": "code",
      "source": [
        "\n",
        "stop_words = stopwords.words('english')\n"
      ],
      "metadata": {
        "id": "p8yXCu-9-xZv"
      },
      "execution_count": null,
      "outputs": []
    },
    {
      "cell_type": "code",
      "source": [
        "\n",
        "df_under['postText']=df_under['postText'].convert_dtypes()\n"
      ],
      "metadata": {
        "id": "kti0SHfm_YKD"
      },
      "execution_count": null,
      "outputs": []
    },
    {
      "cell_type": "code",
      "source": [
        "df_under.dtypes\n"
      ],
      "metadata": {
        "colab": {
          "base_uri": "https://localhost:8080/"
        },
        "id": "FATmrrwWH-h-",
        "outputId": "dd2ee5d7-bb46-4d17-b43b-971d5aa9333a"
      },
      "execution_count": null,
      "outputs": [
        {
          "output_type": "execute_result",
          "data": {
            "text/plain": [
              "postText     string\n",
              "TC          float64\n",
              "dtype: object"
            ]
          },
          "metadata": {},
          "execution_count": 30
        }
      ]
    },
    {
      "cell_type": "code",
      "source": [
        "df_under['postText'] = df_under['postText'].apply(lambda x: ' '.join([word for word in x.split() if word not in (stop_words)]))\n",
        "df_under['postText'] = df_under['postText'].str.lower()\n",
        "df_under[\"postText\"] = df_under['postText'].str.replace('[^\\w\\s]','')\n",
        "\n"
      ],
      "metadata": {
        "colab": {
          "base_uri": "https://localhost:8080/"
        },
        "id": "4w2FZkmRH0O1",
        "outputId": "de2748e6-54ec-4001-d1e3-60d411a103a4"
      },
      "execution_count": null,
      "outputs": [
        {
          "output_type": "stream",
          "name": "stderr",
          "text": [
            "/usr/local/lib/python3.7/dist-packages/ipykernel_launcher.py:3: FutureWarning: The default value of regex will change from True to False in a future version.\n",
            "  This is separate from the ipykernel package so we can avoid doing imports until\n"
          ]
        }
      ]
    },
    {
      "cell_type": "code",
      "source": [
        "\n",
        "p = PorterStemmer()\n",
        "for i in range(0, df_under.shape[0]-1):\n",
        "  df_under[\"postText\"].iloc[i] = p.stem(df_under['postText'].iloc[i])"
      ],
      "metadata": {
        "colab": {
          "base_uri": "https://localhost:8080/"
        },
        "id": "bpgugzWIEIbE",
        "outputId": "5ebfbf4b-f3df-4e45-93fd-be72f295d986"
      },
      "execution_count": null,
      "outputs": [
        {
          "output_type": "stream",
          "name": "stderr",
          "text": [
            "/usr/local/lib/python3.7/dist-packages/pandas/core/indexing.py:1732: SettingWithCopyWarning: \n",
            "A value is trying to be set on a copy of a slice from a DataFrame\n",
            "\n",
            "See the caveats in the documentation: https://pandas.pydata.org/pandas-docs/stable/user_guide/indexing.html#returning-a-view-versus-a-copy\n",
            "  self._setitem_single_block(indexer, value, name)\n"
          ]
        }
      ]
    },
    {
      "cell_type": "code",
      "source": [
        "l = WordNetLemmatizer()\n",
        "for i in range(0, df_under.shape[0]-1):\n",
        "  df_under[\"postText\"].iloc[i] = l.lemmatize(df_under['postText'].iloc[i])"
      ],
      "metadata": {
        "colab": {
          "base_uri": "https://localhost:8080/"
        },
        "id": "5arZjvPoTZrE",
        "outputId": "8673cc08-1064-4007-80e1-06184d31c7f5"
      },
      "execution_count": null,
      "outputs": [
        {
          "output_type": "stream",
          "name": "stderr",
          "text": [
            "/usr/local/lib/python3.7/dist-packages/pandas/core/indexing.py:1732: SettingWithCopyWarning: \n",
            "A value is trying to be set on a copy of a slice from a DataFrame\n",
            "\n",
            "See the caveats in the documentation: https://pandas.pydata.org/pandas-docs/stable/user_guide/indexing.html#returning-a-view-versus-a-copy\n",
            "  self._setitem_single_block(indexer, value, name)\n"
          ]
        }
      ]
    },
    {
      "cell_type": "code",
      "source": [
        "null_columns=df_under.columns[df_under[\"postText\"].isnull().any()]\n",
        "df_under[null_columns].isnull().sum()\n"
      ],
      "metadata": {
        "colab": {
          "base_uri": "https://localhost:8080/"
        },
        "id": "ChE0bsuJOKYv",
        "outputId": "240f2f02-6da0-4882-b9c7-eca87c406c19"
      },
      "execution_count": null,
      "outputs": [
        {
          "output_type": "execute_result",
          "data": {
            "text/plain": [
              "Series([], dtype: float64)"
            ]
          },
          "metadata": {},
          "execution_count": 34
        }
      ]
    },
    {
      "cell_type": "code",
      "source": [
        "##for i in range(0, df_under.shape[0]-1):\n",
        "##  df_under[\"postText\"].iloc[i] = word_tokenize(df_under[\"postText\"].iloc[i])"
      ],
      "metadata": {
        "id": "dMZTVYu2Mrb5"
      },
      "execution_count": null,
      "outputs": []
    },
    {
      "cell_type": "code",
      "source": [
        "df_under"
      ],
      "metadata": {
        "colab": {
          "base_uri": "https://localhost:8080/",
          "height": 433
        },
        "id": "9SU0ip-xPdVF",
        "outputId": "086a4d90-7dd0-4b4f-c9d9-483bdb9b624d"
      },
      "execution_count": null,
      "outputs": [
        {
          "output_type": "execute_result",
          "data": {
            "text/plain": [
              "                                                  postText   TC\n",
              "2242.0                             islamophobia rise china  0.0\n",
              "9062.0            how president use orders memos stop them  0.0\n",
              "6976.0   a man holding machete shot injured security fo...  0.0\n",
              "8592.0   vince carter ejected throwing elbow devin book...  0.0\n",
              "15144.0  50 cent mercilessly trolls soulja boy alleged ...  0.0\n",
              "...                                                    ...  ...\n",
              "19518.0  centurylinkvoice new product launch testing wa...  1.0\n",
              "19526.0                               well always newsweek  1.0\n",
              "19529.0  18 uplifting documentaries guaranteed put smil...  1.0\n",
              "19532.0                 12 things realize end relationship  1.0\n",
              "19534.0                                                     1.0\n",
              "\n",
              "[9432 rows x 2 columns]"
            ],
            "text/html": [
              "\n",
              "  <div id=\"df-83b1c770-f12a-4f47-995c-4f3c38fdae7a\">\n",
              "    <div class=\"colab-df-container\">\n",
              "      <div>\n",
              "<style scoped>\n",
              "    .dataframe tbody tr th:only-of-type {\n",
              "        vertical-align: middle;\n",
              "    }\n",
              "\n",
              "    .dataframe tbody tr th {\n",
              "        vertical-align: top;\n",
              "    }\n",
              "\n",
              "    .dataframe thead th {\n",
              "        text-align: right;\n",
              "    }\n",
              "</style>\n",
              "<table border=\"1\" class=\"dataframe\">\n",
              "  <thead>\n",
              "    <tr style=\"text-align: right;\">\n",
              "      <th></th>\n",
              "      <th>postText</th>\n",
              "      <th>TC</th>\n",
              "    </tr>\n",
              "  </thead>\n",
              "  <tbody>\n",
              "    <tr>\n",
              "      <th>2242.0</th>\n",
              "      <td>islamophobia rise china</td>\n",
              "      <td>0.0</td>\n",
              "    </tr>\n",
              "    <tr>\n",
              "      <th>9062.0</th>\n",
              "      <td>how president use orders memos stop them</td>\n",
              "      <td>0.0</td>\n",
              "    </tr>\n",
              "    <tr>\n",
              "      <th>6976.0</th>\n",
              "      <td>a man holding machete shot injured security fo...</td>\n",
              "      <td>0.0</td>\n",
              "    </tr>\n",
              "    <tr>\n",
              "      <th>8592.0</th>\n",
              "      <td>vince carter ejected throwing elbow devin book...</td>\n",
              "      <td>0.0</td>\n",
              "    </tr>\n",
              "    <tr>\n",
              "      <th>15144.0</th>\n",
              "      <td>50 cent mercilessly trolls soulja boy alleged ...</td>\n",
              "      <td>0.0</td>\n",
              "    </tr>\n",
              "    <tr>\n",
              "      <th>...</th>\n",
              "      <td>...</td>\n",
              "      <td>...</td>\n",
              "    </tr>\n",
              "    <tr>\n",
              "      <th>19518.0</th>\n",
              "      <td>centurylinkvoice new product launch testing wa...</td>\n",
              "      <td>1.0</td>\n",
              "    </tr>\n",
              "    <tr>\n",
              "      <th>19526.0</th>\n",
              "      <td>well always newsweek</td>\n",
              "      <td>1.0</td>\n",
              "    </tr>\n",
              "    <tr>\n",
              "      <th>19529.0</th>\n",
              "      <td>18 uplifting documentaries guaranteed put smil...</td>\n",
              "      <td>1.0</td>\n",
              "    </tr>\n",
              "    <tr>\n",
              "      <th>19532.0</th>\n",
              "      <td>12 things realize end relationship</td>\n",
              "      <td>1.0</td>\n",
              "    </tr>\n",
              "    <tr>\n",
              "      <th>19534.0</th>\n",
              "      <td></td>\n",
              "      <td>1.0</td>\n",
              "    </tr>\n",
              "  </tbody>\n",
              "</table>\n",
              "<p>9432 rows × 2 columns</p>\n",
              "</div>\n",
              "      <button class=\"colab-df-convert\" onclick=\"convertToInteractive('df-83b1c770-f12a-4f47-995c-4f3c38fdae7a')\"\n",
              "              title=\"Convert this dataframe to an interactive table.\"\n",
              "              style=\"display:none;\">\n",
              "        \n",
              "  <svg xmlns=\"http://www.w3.org/2000/svg\" height=\"24px\"viewBox=\"0 0 24 24\"\n",
              "       width=\"24px\">\n",
              "    <path d=\"M0 0h24v24H0V0z\" fill=\"none\"/>\n",
              "    <path d=\"M18.56 5.44l.94 2.06.94-2.06 2.06-.94-2.06-.94-.94-2.06-.94 2.06-2.06.94zm-11 1L8.5 8.5l.94-2.06 2.06-.94-2.06-.94L8.5 2.5l-.94 2.06-2.06.94zm10 10l.94 2.06.94-2.06 2.06-.94-2.06-.94-.94-2.06-.94 2.06-2.06.94z\"/><path d=\"M17.41 7.96l-1.37-1.37c-.4-.4-.92-.59-1.43-.59-.52 0-1.04.2-1.43.59L10.3 9.45l-7.72 7.72c-.78.78-.78 2.05 0 2.83L4 21.41c.39.39.9.59 1.41.59.51 0 1.02-.2 1.41-.59l7.78-7.78 2.81-2.81c.8-.78.8-2.07 0-2.86zM5.41 20L4 18.59l7.72-7.72 1.47 1.35L5.41 20z\"/>\n",
              "  </svg>\n",
              "      </button>\n",
              "      \n",
              "  <style>\n",
              "    .colab-df-container {\n",
              "      display:flex;\n",
              "      flex-wrap:wrap;\n",
              "      gap: 12px;\n",
              "    }\n",
              "\n",
              "    .colab-df-convert {\n",
              "      background-color: #E8F0FE;\n",
              "      border: none;\n",
              "      border-radius: 50%;\n",
              "      cursor: pointer;\n",
              "      display: none;\n",
              "      fill: #1967D2;\n",
              "      height: 32px;\n",
              "      padding: 0 0 0 0;\n",
              "      width: 32px;\n",
              "    }\n",
              "\n",
              "    .colab-df-convert:hover {\n",
              "      background-color: #E2EBFA;\n",
              "      box-shadow: 0px 1px 2px rgba(60, 64, 67, 0.3), 0px 1px 3px 1px rgba(60, 64, 67, 0.15);\n",
              "      fill: #174EA6;\n",
              "    }\n",
              "\n",
              "    [theme=dark] .colab-df-convert {\n",
              "      background-color: #3B4455;\n",
              "      fill: #D2E3FC;\n",
              "    }\n",
              "\n",
              "    [theme=dark] .colab-df-convert:hover {\n",
              "      background-color: #434B5C;\n",
              "      box-shadow: 0px 1px 3px 1px rgba(0, 0, 0, 0.15);\n",
              "      filter: drop-shadow(0px 1px 2px rgba(0, 0, 0, 0.3));\n",
              "      fill: #FFFFFF;\n",
              "    }\n",
              "  </style>\n",
              "\n",
              "      <script>\n",
              "        const buttonEl =\n",
              "          document.querySelector('#df-83b1c770-f12a-4f47-995c-4f3c38fdae7a button.colab-df-convert');\n",
              "        buttonEl.style.display =\n",
              "          google.colab.kernel.accessAllowed ? 'block' : 'none';\n",
              "\n",
              "        async function convertToInteractive(key) {\n",
              "          const element = document.querySelector('#df-83b1c770-f12a-4f47-995c-4f3c38fdae7a');\n",
              "          const dataTable =\n",
              "            await google.colab.kernel.invokeFunction('convertToInteractive',\n",
              "                                                     [key], {});\n",
              "          if (!dataTable) return;\n",
              "\n",
              "          const docLinkHtml = 'Like what you see? Visit the ' +\n",
              "            '<a target=\"_blank\" href=https://colab.research.google.com/notebooks/data_table.ipynb>data table notebook</a>'\n",
              "            + ' to learn more about interactive tables.';\n",
              "          element.innerHTML = '';\n",
              "          dataTable['output_type'] = 'display_data';\n",
              "          await google.colab.output.renderOutput(dataTable, element);\n",
              "          const docLink = document.createElement('div');\n",
              "          docLink.innerHTML = docLinkHtml;\n",
              "          element.appendChild(docLink);\n",
              "        }\n",
              "      </script>\n",
              "    </div>\n",
              "  </div>\n",
              "  "
            ]
          },
          "metadata": {},
          "execution_count": 36
        }
      ]
    },
    {
      "cell_type": "code",
      "source": [
        ""
      ],
      "metadata": {
        "id": "wJz3HquxR5Od"
      },
      "execution_count": null,
      "outputs": []
    },
    {
      "cell_type": "markdown",
      "source": [
        "The following question to answer is:\n",
        "\n",
        "--> Which words are the most common for each class?\n",
        "\n",
        "**Remember TC = 1 is clickbait** "
      ],
      "metadata": {
        "id": "hFiB7WK7INeJ"
      }
    },
    {
      "cell_type": "code",
      "source": [
        "def generateCloud(text):\n",
        "  wordcloud = WordCloud().generate(text)\n",
        "  # Display the generated image:\n",
        "  plt.imshow(wordcloud, interpolation='bilinear')\n",
        "  plt.axis(\"off\")\n",
        "  plt.show()"
      ],
      "metadata": {
        "id": "uvMa1ITlMOQu"
      },
      "execution_count": null,
      "outputs": []
    },
    {
      "cell_type": "code",
      "source": [
        "def generatingCloudText(type):\n",
        "  text = cloudData.postText[:].where(cloudData['TC']== type)\n",
        "  text = text.dropna()\n",
        "  text = text.to_frame()\n",
        "  out = ' '.join(text[\"postText\"])\n",
        "  return out"
      ],
      "metadata": {
        "id": "Eqvkt-_BJrIw"
      },
      "execution_count": null,
      "outputs": []
    },
    {
      "cell_type": "code",
      "source": [
        "print(cloudData)\n",
        "out_0 = generatingCloudText(0)\n",
        "out_1 = generatingCloudText(1)"
      ],
      "metadata": {
        "colab": {
          "base_uri": "https://localhost:8080/"
        },
        "id": "PKv-p18yMZKF",
        "outputId": "ee512d69-ce70-444a-a204-e439a6f099bf"
      },
      "execution_count": null,
      "outputs": [
        {
          "output_type": "stream",
          "name": "stdout",
          "text": [
            "                                                  postText   TC\n",
            "2242.0                Islamophobia is on the rise in China  0.0\n",
            "9062.0   How a president can use orders and memos, and ...  0.0\n",
            "6976.0   A man holding a #machete was shot and injured ...  0.0\n",
            "8592.0   Vince Carter ejected for throwing elbow at Dev...  0.0\n",
            "15144.0  50 Cent mercilessly trolls Soulja Boy after al...  0.0\n",
            "...                                                    ...  ...\n",
            "19518.0  CenturyLinkVoice: New product launch: Testing ...  1.0\n",
            "19526.0                        We'll always have Newsweek.  1.0\n",
            "19529.0  18 uplifting documentaries guaranteed to put a...  1.0\n",
            "19532.0  12 things you realize at the end of a relation...  1.0\n",
            "19534.0                                     😱😱😱😱😱😱😱😱😱😱😱😱😱😱  1.0\n",
            "\n",
            "[9432 rows x 2 columns]\n"
          ]
        }
      ]
    },
    {
      "cell_type": "code",
      "source": [
        ""
      ],
      "metadata": {
        "id": "1bE0GdCjMdHE"
      },
      "execution_count": null,
      "outputs": []
    },
    {
      "cell_type": "code",
      "source": [
        "#Generating cloud of words when TC = 0\n",
        "print(\"Appearence of words when truthClass is 0\")\n",
        "generateCloud(out_0)\n",
        "#Generating cloud of words when TC = 1\n",
        "print(\"Appearence of words when truthClass is 1\")\n",
        "generateCloud(out_1)\n"
      ],
      "metadata": {
        "colab": {
          "base_uri": "https://localhost:8080/",
          "height": 433
        },
        "id": "eDQMLHXuLqLc",
        "outputId": "2afbd0bb-2d1e-4439-bc90-d0e9c3842fa6"
      },
      "execution_count": null,
      "outputs": [
        {
          "output_type": "stream",
          "name": "stdout",
          "text": [
            "Appearence of words when truthClass is 0\n"
          ]
        },
        {
          "output_type": "display_data",
          "data": {
            "text/plain": [
              "<Figure size 432x288 with 1 Axes>"
            ],
            "image/png": "[encoded data removed]"
          },
          "metadata": {
            "needs_background": "light"
          }
        },
        {
          "output_type": "stream",
          "name": "stdout",
          "text": [
            "Appearence of words when truthClass is 1\n"
          ]
        },
        {
          "output_type": "display_data",
          "data": {
            "text/plain": [
              "<Figure size 432x288 with 1 Axes>"
            ],
            "image/png": "[encoded data removed]"
          },
          "metadata": {
            "needs_background": "light"
          }
        }
      ]
    },
    {
      "cell_type": "markdown",
      "source": [
        "##BERT model"
      ],
      "metadata": {
        "id": "zrYhGoKRRCMR"
      }
    },
    {
      "cell_type": "code",
      "source": [
        ""
      ],
      "metadata": {
        "id": "AAcd8otdLgPy"
      },
      "execution_count": null,
      "outputs": []
    },
    {
      "cell_type": "markdown",
      "source": [
        "###Downloadinng Bert with Keras"
      ],
      "metadata": {
        "id": "N_ZKOWEcREzI"
      }
    },
    {
      "cell_type": "code",
      "source": [
        "bert_preprocess = hub.KerasLayer(\"https://tfhub.dev/tensorflow/bert_en_uncased_preprocess/3\")\n",
        "bert_encoder = hub.KerasLayer(\"https://tfhub.dev/tensorflow/bert_en_uncased_L-12_H-768_A-12/4\")"
      ],
      "metadata": {
        "id": "mlfVAqoEJDL9"
      },
      "execution_count": null,
      "outputs": []
    },
    {
      "cell_type": "markdown",
      "source": [
        "I'll build the model using Tensorflow-Keras"
      ],
      "metadata": {
        "id": "WoUUsWvGSv7u"
      }
    },
    {
      "cell_type": "code",
      "source": [
        "# First initialize the Bert layers\n",
        "text_input = tf.keras.layers.Input(shape=(), dtype=tf.string, name='text')\n",
        "preprocessed_text = bert_preprocess(text_input)\n",
        "outputs = bert_encoder(preprocessed_text)"
      ],
      "metadata": {
        "id": "ILwGQfUpRK9i"
      },
      "execution_count": null,
      "outputs": []
    },
    {
      "cell_type": "code",
      "source": [
        "#Initializing the Neural Network Layers\n",
        "#We may add more layers  \n",
        "l = tf.keras.layers.Dropout(0.1, name=\"dropout\")(outputs['pooled_output'])\n",
        "l1 = tf.keras.layers.Dense(100, activation='sigmoid')(l)\n",
        "l2 = tf.keras.layers.Dense(50, activation='sigmoid')(l1)\n",
        "l3 = tf.keras.layers.Dense(1, activation='sigmoid', name=\"output\")(l2)\n",
        "model = tf.keras.Model(inputs=[text_input], outputs = [l3])\n",
        "model.summary()"
      ],
      "metadata": {
        "colab": {
          "base_uri": "https://localhost:8080/"
        },
        "id": "42ey95I5S7O1",
        "outputId": "b8b8cd47-ed13-431b-d1a8-a906ea56e818"
      },
      "execution_count": null,
      "outputs": [
        {
          "output_type": "stream",
          "name": "stdout",
          "text": [
            "Model: \"model\"\n",
            "__________________________________________________________________________________________________\n",
            " Layer (type)                   Output Shape         Param #     Connected to                     \n",
            "==================================================================================================\n",
            " text (InputLayer)              [(None,)]            0           []                               \n",
            "                                                                                                  \n",
            " keras_layer (KerasLayer)       {'input_word_ids':   0           ['text[0][0]']                   \n",
            "                                (None, 128),                                                      \n",
            "                                 'input_type_ids':                                                \n",
            "                                (None, 128),                                                      \n",
            "                                 'input_mask': (Non                                               \n",
            "                                e, 128)}                                                          \n",
            "                                                                                                  \n",
            " keras_layer_1 (KerasLayer)     {'pooled_output': (  109482241   ['keras_layer[0][0]',            \n",
            "                                None, 768),                       'keras_layer[0][1]',            \n",
            "                                 'default': (None,                'keras_layer[0][2]']            \n",
            "                                768),                                                             \n",
            "                                 'sequence_output':                                               \n",
            "                                 (None, 128, 768),                                                \n",
            "                                 'encoder_outputs':                                               \n",
            "                                 [(None, 128, 768),                                               \n",
            "                                 (None, 128, 768),                                                \n",
            "                                 (None, 128, 768),                                                \n",
            "                                 (None, 128, 768),                                                \n",
            "                                 (None, 128, 768),                                                \n",
            "                                 (None, 128, 768),                                                \n",
            "                                 (None, 128, 768),                                                \n",
            "                                 (None, 128, 768),                                                \n",
            "                                 (None, 128, 768),                                                \n",
            "                                 (None, 128, 768),                                                \n",
            "                                 (None, 128, 768),                                                \n",
            "                                 (None, 128, 768)]}                                               \n",
            "                                                                                                  \n",
            " dropout (Dropout)              (None, 768)          0           ['keras_layer_1[0][13]']         \n",
            "                                                                                                  \n",
            " dense (Dense)                  (None, 100)          76900       ['dropout[0][0]']                \n",
            "                                                                                                  \n",
            " dense_1 (Dense)                (None, 50)           5050        ['dense[0][0]']                  \n",
            "                                                                                                  \n",
            " output (Dense)                 (None, 1)            51          ['dense_1[0][0]']                \n",
            "                                                                                                  \n",
            "==================================================================================================\n",
            "Total params: 109,564,242\n",
            "Trainable params: 82,001\n",
            "Non-trainable params: 109,482,241\n",
            "__________________________________________________________________________________________________\n"
          ]
        }
      ]
    },
    {
      "cell_type": "code",
      "source": [
        "METRICS = [\n",
        "      tf.keras.metrics.BinaryAccuracy(name='accuracy'),\n",
        "      tf.keras.metrics.Precision(name='precision'),\n",
        "      tf.keras.metrics.Recall(name='recall')\n",
        "]\n",
        "\n",
        "model.compile(optimizer='adam',\n",
        " loss='binary_crossentropy',\n",
        " metrics=METRICS)"
      ],
      "metadata": {
        "id": "ShW3XbW3UXqy"
      },
      "execution_count": null,
      "outputs": []
    },
    {
      "cell_type": "code",
      "source": [
        "X_train = df_under['postText']\n",
        "y_train = df_under['TC']\n"
      ],
      "metadata": {
        "id": "_EyFiMtjXdsa"
      },
      "execution_count": null,
      "outputs": []
    },
    {
      "cell_type": "code",
      "source": [
        "model.fit(X_train.to_list(), y_train.to_list(), epochs=50)"
      ],
      "metadata": {
        "colab": {
          "base_uri": "https://localhost:8080/"
        },
        "id": "tYa_JSZpXsoj",
        "outputId": "8cdfc5df-25df-4688-a92c-cfeed82787f6"
      },
      "execution_count": null,
      "outputs": [
        {
          "output_type": "stream",
          "name": "stdout",
          "text": [
            "Epoch 1/50\n",
            "295/295 [==============================] - 219s 687ms/step - loss: 0.6198 - accuracy: 0.6490 - precision: 0.6510 - recall: 0.6423\n",
            "Epoch 2/50\n",
            "295/295 [==============================] - 202s 683ms/step - loss: 0.5403 - accuracy: 0.7314 - precision: 0.7281 - recall: 0.7388\n",
            "Epoch 3/50\n",
            "295/295 [==============================] - 201s 683ms/step - loss: 0.5304 - accuracy: 0.7407 - precision: 0.7368 - recall: 0.7489\n",
            "Epoch 4/50\n",
            "295/295 [==============================] - 203s 687ms/step - loss: 0.5240 - accuracy: 0.7451 - precision: 0.7388 - recall: 0.7583\n",
            "Epoch 5/50\n",
            "295/295 [==============================] - 202s 686ms/step - loss: 0.5177 - accuracy: 0.7465 - precision: 0.7425 - recall: 0.7547\n",
            "Epoch 6/50\n",
            "295/295 [==============================] - 203s 687ms/step - loss: 0.5145 - accuracy: 0.7514 - precision: 0.7487 - recall: 0.7568\n",
            "Epoch 7/50\n",
            "295/295 [==============================] - 201s 681ms/step - loss: 0.5109 - accuracy: 0.7512 - precision: 0.7471 - recall: 0.7593\n",
            "Epoch 8/50\n",
            "295/295 [==============================] - 200s 679ms/step - loss: 0.5099 - accuracy: 0.7498 - precision: 0.7454 - recall: 0.7587\n",
            "Epoch 9/50\n",
            "295/295 [==============================] - 200s 679ms/step - loss: 0.5018 - accuracy: 0.7542 - precision: 0.7528 - recall: 0.7570\n",
            "Epoch 10/50\n",
            "295/295 [==============================] - 201s 680ms/step - loss: 0.5093 - accuracy: 0.7538 - precision: 0.7515 - recall: 0.7585\n",
            "Epoch 11/50\n",
            "295/295 [==============================] - 200s 679ms/step - loss: 0.5044 - accuracy: 0.7553 - precision: 0.7498 - recall: 0.7663\n",
            "Epoch 12/50\n",
            "295/295 [==============================] - 201s 680ms/step - loss: 0.5027 - accuracy: 0.7499 - precision: 0.7471 - recall: 0.7555\n",
            "Epoch 13/50\n",
            "295/295 [==============================] - 200s 679ms/step - loss: 0.5019 - accuracy: 0.7573 - precision: 0.7545 - recall: 0.7629\n",
            "Epoch 14/50\n",
            "295/295 [==============================] - 200s 679ms/step - loss: 0.4982 - accuracy: 0.7555 - precision: 0.7524 - recall: 0.7617\n",
            "Epoch 15/50\n",
            "295/295 [==============================] - 201s 680ms/step - loss: 0.5047 - accuracy: 0.7486 - precision: 0.7466 - recall: 0.7528\n",
            "Epoch 16/50\n",
            "295/295 [==============================] - 200s 679ms/step - loss: 0.5033 - accuracy: 0.7551 - precision: 0.7509 - recall: 0.7634\n",
            "Epoch 17/50\n",
            "295/295 [==============================] - 201s 680ms/step - loss: 0.4953 - accuracy: 0.7563 - precision: 0.7522 - recall: 0.7642\n",
            "Epoch 18/50\n",
            "295/295 [==============================] - 201s 680ms/step - loss: 0.5049 - accuracy: 0.7548 - precision: 0.7508 - recall: 0.7627\n",
            "Epoch 19/50\n",
            "295/295 [==============================] - 201s 683ms/step - loss: 0.4982 - accuracy: 0.7586 - precision: 0.7533 - recall: 0.7691\n",
            "Epoch 20/50\n",
            "295/295 [==============================] - 201s 682ms/step - loss: 0.4937 - accuracy: 0.7595 - precision: 0.7561 - recall: 0.7663\n",
            "Epoch 21/50\n",
            "295/295 [==============================] - 200s 679ms/step - loss: 0.4968 - accuracy: 0.7567 - precision: 0.7535 - recall: 0.7629\n",
            "Epoch 22/50\n",
            "295/295 [==============================] - 201s 680ms/step - loss: 0.4939 - accuracy: 0.7583 - precision: 0.7512 - recall: 0.7723\n",
            "Epoch 23/50\n",
            "295/295 [==============================] - 200s 679ms/step - loss: 0.4977 - accuracy: 0.7565 - precision: 0.7542 - recall: 0.7610\n",
            "Epoch 24/50\n",
            "295/295 [==============================] - 200s 679ms/step - loss: 0.4978 - accuracy: 0.7572 - precision: 0.7543 - recall: 0.7629\n",
            "Epoch 25/50\n",
            "295/295 [==============================] - 200s 679ms/step - loss: 0.4964 - accuracy: 0.7606 - precision: 0.7568 - recall: 0.7680\n",
            "Epoch 26/50\n",
            "295/295 [==============================] - 200s 679ms/step - loss: 0.4915 - accuracy: 0.7624 - precision: 0.7561 - recall: 0.7748\n",
            "Epoch 27/50\n",
            "295/295 [==============================] - 200s 677ms/step - loss: 0.5012 - accuracy: 0.7545 - precision: 0.7494 - recall: 0.7646\n",
            "Epoch 28/50\n",
            "295/295 [==============================] - 200s 679ms/step - loss: 0.4924 - accuracy: 0.7663 - precision: 0.7631 - recall: 0.7725\n",
            "Epoch 29/50\n",
            "295/295 [==============================] - 200s 680ms/step - loss: 0.4910 - accuracy: 0.7603 - precision: 0.7564 - recall: 0.7678\n",
            "Epoch 30/50\n",
            "295/295 [==============================] - 201s 680ms/step - loss: 0.4932 - accuracy: 0.7592 - precision: 0.7570 - recall: 0.7636\n",
            "Epoch 31/50\n",
            "295/295 [==============================] - 201s 682ms/step - loss: 0.4910 - accuracy: 0.7588 - precision: 0.7542 - recall: 0.7678\n",
            "Epoch 32/50\n",
            "295/295 [==============================] - 203s 687ms/step - loss: 0.4900 - accuracy: 0.7648 - precision: 0.7616 - recall: 0.7710\n",
            "Epoch 33/50\n",
            "295/295 [==============================] - 202s 685ms/step - loss: 0.4892 - accuracy: 0.7615 - precision: 0.7561 - recall: 0.7718\n",
            "Epoch 34/50\n",
            "295/295 [==============================] - 202s 685ms/step - loss: 0.4884 - accuracy: 0.7646 - precision: 0.7616 - recall: 0.7704\n",
            "Epoch 35/50\n",
            "295/295 [==============================] - 203s 688ms/step - loss: 0.4910 - accuracy: 0.7618 - precision: 0.7556 - recall: 0.7737\n",
            "Epoch 36/50\n",
            "295/295 [==============================] - 202s 683ms/step - loss: 0.4895 - accuracy: 0.7612 - precision: 0.7574 - recall: 0.7687\n",
            "Epoch 37/50\n",
            "295/295 [==============================] - 202s 684ms/step - loss: 0.4893 - accuracy: 0.7641 - precision: 0.7617 - recall: 0.7687\n",
            "Epoch 38/50\n",
            "295/295 [==============================] - 202s 686ms/step - loss: 0.4872 - accuracy: 0.7625 - precision: 0.7595 - recall: 0.7682\n",
            "Epoch 39/50\n",
            "295/295 [==============================] - 202s 684ms/step - loss: 0.4890 - accuracy: 0.7620 - precision: 0.7577 - recall: 0.7704\n",
            "Epoch 40/50\n",
            "295/295 [==============================] - 201s 682ms/step - loss: 0.4869 - accuracy: 0.7636 - precision: 0.7630 - recall: 0.7646\n",
            "Epoch 41/50\n",
            "295/295 [==============================] - 202s 684ms/step - loss: 0.4876 - accuracy: 0.7649 - precision: 0.7612 - recall: 0.7721\n",
            "Epoch 42/50\n",
            "295/295 [==============================] - 202s 685ms/step - loss: 0.4884 - accuracy: 0.7631 - precision: 0.7574 - recall: 0.7744\n",
            "Epoch 43/50\n",
            "295/295 [==============================] - 203s 687ms/step - loss: 0.4845 - accuracy: 0.7649 - precision: 0.7618 - recall: 0.7710\n",
            "Epoch 44/50\n",
            "295/295 [==============================] - 203s 687ms/step - loss: 0.4830 - accuracy: 0.7653 - precision: 0.7611 - recall: 0.7733\n",
            "Epoch 45/50\n",
            "295/295 [==============================] - 202s 685ms/step - loss: 0.4845 - accuracy: 0.7648 - precision: 0.7602 - recall: 0.7737\n",
            "Epoch 46/50\n",
            "295/295 [==============================] - 202s 684ms/step - loss: 0.4876 - accuracy: 0.7622 - precision: 0.7577 - recall: 0.7710\n",
            "Epoch 47/50\n",
            "295/295 [==============================] - 202s 684ms/step - loss: 0.4876 - accuracy: 0.7628 - precision: 0.7572 - recall: 0.7737\n",
            "Epoch 48/50\n",
            "295/295 [==============================] - 202s 685ms/step - loss: 0.4810 - accuracy: 0.7679 - precision: 0.7645 - recall: 0.7744\n",
            "Epoch 49/50\n",
            "286/295 [============================>.] - ETA: 6s - loss: 0.4799 - accuracy: 0.7643 - precision: 0.7624 - recall: 0.7682"
          ]
        }
      ]
    },
    {
      "cell_type": "code",
      "source": [
        "from keras.models import load_model\n",
        "\n",
        "model.save('my_model.h5') "
      ],
      "metadata": {
        "id": "Mxm3QHrG0XDl"
      },
      "execution_count": null,
      "outputs": []
    },
    {
      "cell_type": "code",
      "source": [
        "from keras.models import load_model\n",
        "saved = load_model('my_model.h5')\n",
        "saved.summary()"
      ],
      "metadata": {
        "id": "Shq79Fe_m13S"
      },
      "execution_count": null,
      "outputs": []
    },
    {
      "cell_type": "markdown",
      "source": [
        ""
      ],
      "metadata": {
        "id": "ahLsHfnHm1ni"
      }
    },
    {
      "cell_type": "code",
      "source": [
        
      ],
      "metadata": {
        "colab": {
          "base_uri": "https://localhost:8080/",
          "height": 182
        },
        "id": "_9QKI_Tf9Lrz",
        "outputId": "773e745d-7c84-4d44-c49d-65b622b27104"
      },
      "execution_count": 49,
      "outputs": [
        {
          "output_type": "error",
          "ename": "NameError",
          "evalue": "ignored",
          "traceback": ""
          
        }
      ]
    }
  ]
}
